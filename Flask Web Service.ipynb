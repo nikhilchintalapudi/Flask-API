{
 "cells": [
  {
   "cell_type": "code",
   "execution_count": 1,
   "metadata": {
    "collapsed": true
   },
   "outputs": [],
   "source": [
    "import numpy as np\n",
    "from flask import Flask, abort, jsonify, request\n",
    "from flask_cors import cross_origin\n",
    "from json import dumps\n",
    "import pickle"
   ]
  },
  {
   "cell_type": "code",
   "execution_count": 2,
   "metadata": {
    "collapsed": true
   },
   "outputs": [],
   "source": [
    "model = pickle.load(open(\"iris_classifier.pkl\",\"rb\"))  # Load Model"
   ]
  },
  {
   "cell_type": "code",
   "execution_count": null,
   "metadata": {
    "collapsed": true
   },
   "outputs": [],
   "source": [
    "app = Flask(__name__) # Creates Web service\n",
    "\n",
    "\n",
    "@app.route('/api', methods=['POST'])  #decorator\n",
    "@cross_origin()\n",
    "def make_predict():\n",
    "    \n",
    "    # get data from json object, xform to a dict of pandas series\n",
    "    data = request.get_json(force=True)\n",
    "\n",
    "    # convert json to numpy array\n",
    "    input_features = [data['sl'],data['sw'],data['pl'],data['pw']]\n",
    "    input_features = np.array(input_features)    \n",
    "    \n",
    "    # Make Prediction\n",
    "    y_predict = model.predict(input_features.reshape(1, -1))\n",
    "\n",
    "    # Convert the Prediction into json object and Return to the calling program\n",
    "    output = [y_predict[0]]\n",
    "    return jsonify(results=output)\n",
    "    \n",
    "if __name__ == '__main__':\n",
    "    app.run(port=9000,  debug=False) # Runs on Port 9000"
   ]
  }
 ],
 "metadata": {
  "kernelspec": {
   "display_name": "Python 3",
   "language": "python",
   "name": "python3"
  },
  "language_info": {
   "codemirror_mode": {
    "name": "ipython",
    "version": 3
   },
   "file_extension": ".py",
   "mimetype": "text/x-python",
   "name": "python",
   "nbconvert_exporter": "python",
   "pygments_lexer": "ipython3",
   "version": "3.6.1"
  }
 },
 "nbformat": 4,
 "nbformat_minor": 2
}
